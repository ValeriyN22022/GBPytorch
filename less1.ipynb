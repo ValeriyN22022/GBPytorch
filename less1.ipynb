{
 "cells": [
  {
   "cell_type": "code",
   "execution_count": 2,
   "metadata": {},
   "outputs": [],
   "source": [
    "from IPython import display\n",
    "import numpy as np\n",
    "import random\n",
    "import torch"
   ]
  },
  {
   "cell_type": "markdown",
   "metadata": {},
   "source": [
    "Создайте случайный FloatTensor размера 3x4x5\n",
    "Выведите его форму (shape)"
   ]
  },
  {
   "cell_type": "code",
   "execution_count": 31,
   "metadata": {},
   "outputs": [
    {
     "name": "stdout",
     "output_type": "stream",
     "text": [
      "tensor([[[ 0.8381, -0.2668, -1.4329, -0.1453,  0.6182],\n",
      "         [ 0.8492,  1.7728,  0.5692, -0.1276,  0.6200],\n",
      "         [ 0.3894,  0.6356, -0.5786, -1.2220, -1.2886],\n",
      "         [-0.6339, -1.2817, -0.1206,  0.2080, -1.8145]],\n",
      "\n",
      "        [[ 0.1551, -0.1446, -1.1325, -1.1172,  0.5060],\n",
      "         [ 0.3820, -0.5290, -0.8688,  0.6693, -0.6268],\n",
      "         [ 0.3220, -0.3431, -1.7741,  1.7411,  1.6395],\n",
      "         [ 0.3221,  0.3878,  0.2828, -0.6185,  1.0864]],\n",
      "\n",
      "        [[-1.4355, -1.1348, -1.1459,  0.4448, -0.7986],\n",
      "         [-0.4800,  0.4765,  0.0762, -0.3409, -0.0171],\n",
      "         [ 1.0493, -0.0342, -0.0865, -0.6377, -1.4535],\n",
      "         [ 0.4596,  2.0459,  0.0499,  1.3489, -1.5459]]]) torch.Size([3, 4, 5])\n"
     ]
    }
   ],
   "source": [
    "tensor = torch.randn(3, 4, 5)\n",
    "print(tensor, tensor.shape)"
   ]
  },
  {
   "cell_type": "markdown",
   "metadata": {},
   "source": [
    "Приведите его к форме 6х10"
   ]
  },
  {
   "cell_type": "code",
   "execution_count": 21,
   "metadata": {},
   "outputs": [
    {
     "name": "stdout",
     "output_type": "stream",
     "text": [
      "tensor([[ 1.8675,  0.9330,  0.3110, -1.0513, -0.8144, -0.7427, -0.6689,  0.5444,\n",
      "         -0.3063,  1.0437],\n",
      "        [-1.5911,  1.6431, -1.0792, -0.4498,  0.2965, -1.2644, -0.7965,  0.4059,\n",
      "          0.7045, -0.7782],\n",
      "        [ 0.0869,  0.4520,  2.0356, -0.0183,  0.1336, -0.8960,  0.2895, -0.7408,\n",
      "         -0.2946,  1.2243],\n",
      "        [ 1.3601,  0.1713,  2.1241,  1.2280, -1.5315,  1.4213, -0.0897,  0.2608,\n",
      "          0.2031,  1.2006],\n",
      "        [ 0.7917, -0.1616,  0.1239, -1.1358,  0.0061, -0.0660, -0.8491,  0.5181,\n",
      "          1.7803, -0.3059],\n",
      "        [-0.8785, -0.4113,  0.1192, -0.8200, -0.4841,  0.8087, -0.4670, -0.5026,\n",
      "          0.7010,  0.2820]])\n"
     ]
    },
    {
     "data": {
      "text/plain": [
       "'torch.FloatTensor'"
      ]
     },
     "execution_count": 21,
     "metadata": {},
     "output_type": "execute_result"
    }
   ],
   "source": [
    "new_tensor = torch.reshape(tensor,(6,10))\n",
    "print(new_tensor)\n",
    "tensor.type()"
   ]
  },
  {
   "cell_type": "markdown",
   "metadata": {},
   "source": [
    "Создайте случайный IntTensor размера 10"
   ]
  },
  {
   "cell_type": "code",
   "execution_count": 28,
   "metadata": {},
   "outputs": [
    {
     "name": "stdout",
     "output_type": "stream",
     "text": [
      "tensor([2, 4, 0, 1, 6, 9, 2, 2, 1, 0], dtype=torch.int32) torch.IntTensor\n"
     ]
    }
   ],
   "source": [
    "int_tersor = torch.randint(10, size=(10,))\n",
    "int_tersor = int_tersor.int()\n",
    "print(int_tersor, int_tersor.type())"
   ]
  },
  {
   "cell_type": "markdown",
   "metadata": {},
   "source": [
    "Умножьте созданный FloatTensor на созданный IntTensor поэлементно"
   ]
  },
  {
   "cell_type": "code",
   "execution_count": 32,
   "metadata": {},
   "outputs": [
    {
     "data": {
      "text/plain": [
       "tensor([[  3.7350,   3.7319,   0.0000,  -1.0513,  -4.8861,  -6.6840,  -1.3377,\n",
       "           1.0887,  -0.3063,   0.0000],\n",
       "        [ -3.1822,   6.5725,  -0.0000,  -0.4498,   1.7790, -11.3796,  -1.5929,\n",
       "           0.8117,   0.7045,  -0.0000],\n",
       "        [  0.1738,   1.8080,   0.0000,  -0.0183,   0.8019,  -8.0640,   0.5790,\n",
       "          -1.4815,  -0.2946,   0.0000],\n",
       "        [  2.7202,   0.6854,   0.0000,   1.2280,  -9.1890,  12.7918,  -0.1794,\n",
       "           0.5216,   0.2031,   0.0000],\n",
       "        [  1.5834,  -0.6465,   0.0000,  -1.1358,   0.0364,  -0.5936,  -1.6982,\n",
       "           1.0361,   1.7803,  -0.0000],\n",
       "        [ -1.7570,  -1.6453,   0.0000,  -0.8200,  -2.9043,   7.2781,  -0.9339,\n",
       "          -1.0051,   0.7010,   0.0000]])"
      ]
     },
     "execution_count": 32,
     "metadata": {},
     "output_type": "execute_result"
    }
   ],
   "source": [
    "mul_tensor = new_tensor.mul(int_tersor)\n",
    "mul_tensor"
   ]
  },
  {
   "cell_type": "markdown",
   "metadata": {},
   "source": [
    "Умножьте тензор матрично на себя, чтобы результат был размерности 6x6 Подсказка: .dot может не подойти"
   ]
  },
  {
   "cell_type": "code",
   "execution_count": 35,
   "metadata": {},
   "outputs": [
    {
     "data": {
      "text/plain": [
       "tensor([[ -14.1878,   50.8879,   -3.8488,   -6.9387,   28.7670,  -83.6744],\n",
       "        [ -48.9823,  -28.6184,   -2.5933,  -15.7179,   94.7760,  -79.7963],\n",
       "        [ -23.7031,   -7.3915,    0.4887,   -9.9420,   70.6947,  -94.1004],\n",
       "        [  37.9291,   93.0796,   -5.6913,   28.0380, -131.4794,  150.4216],\n",
       "        [   7.8671,    2.4422,   -3.4135,   -8.0451,   -4.6836,  -21.6939],\n",
       "        [  13.9451,   20.7149,   -2.7780,   13.0481,  -51.9747,   93.0339]])"
      ]
     },
     "execution_count": 35,
     "metadata": {},
     "output_type": "execute_result"
    }
   ],
   "source": [
    "mm_tensor = torch.mm(mul_tensor, mul_tensor.reshape(10,6))\n",
    "mm_tensor"
   ]
  },
  {
   "cell_type": "markdown",
   "metadata": {},
   "source": [
    "Посчитайте производную функции y = x**3 + z - 75t в точке (1, 0.5, 2)"
   ]
  },
  {
   "cell_type": "code",
   "execution_count": 51,
   "metadata": {},
   "outputs": [
    {
     "name": "stdout",
     "output_type": "stream",
     "text": [
      "tensor([ -73.0000,  -36.8750, -140.0000], grad_fn=<SubBackward0>) tensor([1.0000, 0.5000, 2.0000], requires_grad=True)\n"
     ]
    }
   ],
   "source": [
    "x = torch.tensor([1,0.5,2],requires_grad=True)\n",
    "y = x**3 + x - 75*x\n",
    "y.backward(x)\n",
    "print(y,x)"
   ]
  },
  {
   "cell_type": "markdown",
   "metadata": {},
   "source": [
    "Создайте единичный тензор размера 5x6"
   ]
  },
  {
   "cell_type": "code",
   "execution_count": 38,
   "metadata": {},
   "outputs": [
    {
     "data": {
      "text/plain": [
       "tensor([[1., 1., 1., 1., 1., 1.],\n",
       "        [1., 1., 1., 1., 1., 1.],\n",
       "        [1., 1., 1., 1., 1., 1.],\n",
       "        [1., 1., 1., 1., 1., 1.],\n",
       "        [1., 1., 1., 1., 1., 1.]])"
      ]
     },
     "execution_count": 38,
     "metadata": {},
     "output_type": "execute_result"
    }
   ],
   "source": [
    "ones_tensor = torch.ones(5,6)\n",
    "ones_tensor"
   ]
  },
  {
   "cell_type": "markdown",
   "metadata": {},
   "source": [
    "Переведите его в формат numpy"
   ]
  },
  {
   "cell_type": "code",
   "execution_count": 40,
   "metadata": {},
   "outputs": [
    {
     "data": {
      "text/plain": [
       "array([[1., 1., 1., 1., 1., 1.],\n",
       "       [1., 1., 1., 1., 1., 1.],\n",
       "       [1., 1., 1., 1., 1., 1.],\n",
       "       [1., 1., 1., 1., 1., 1.],\n",
       "       [1., 1., 1., 1., 1., 1.]], dtype=float32)"
      ]
     },
     "execution_count": 40,
     "metadata": {},
     "output_type": "execute_result"
    }
   ],
   "source": [
    "ones_tensor.numpy()"
   ]
  }
 ],
 "metadata": {
  "kernelspec": {
   "display_name": "Python 3",
   "language": "python",
   "name": "python3"
  },
  "language_info": {
   "codemirror_mode": {
    "name": "ipython",
    "version": 3
   },
   "file_extension": ".py",
   "mimetype": "text/x-python",
   "name": "python",
   "nbconvert_exporter": "python",
   "pygments_lexer": "ipython3",
   "version": "3.9.13"
  }
 },
 "nbformat": 4,
 "nbformat_minor": 2
}
